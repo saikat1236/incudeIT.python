{
 "cells": [
  {
   "cell_type": "markdown",
   "metadata": {},
   "source": [
    "1. Basic Python Syntax"
   ]
  },
  {
   "cell_type": "code",
   "execution_count": 5,
   "metadata": {},
   "outputs": [
    {
     "name": "stdout",
     "output_type": "stream",
     "text": [
      "Saikat\n",
      "25\n",
      "5.8\n",
      "True\n",
      "<class 'str'>\n",
      "<class 'int'>\n",
      "<class 'float'>\n",
      "<class 'bool'>\n"
     ]
    }
   ],
   "source": [
    "# String (text data)\n",
    "name = \"Saikat\"\n",
    "print(name)  # Output: Alice\n",
    "\n",
    "# Integer (whole number)\n",
    "age = 25\n",
    "print(age)  # Output: 25\n",
    "\n",
    "# Float (decimal number)\n",
    "height = 5.8\n",
    "print(height)  # Output: 5.8\n",
    "\n",
    "# Boolean (True or False)\n",
    "is_student = True\n",
    "print(is_student)  # Output: True\n",
    "\n",
    "print(type(name))     # Output: <class 'str'>\n",
    "print(type(age))      # Output: <class 'int'>\n",
    "print(type(height))   # Output: <class 'float'>\n",
    "print(type(is_student))  # Output: <class 'bool'>\n"
   ]
  },
  {
   "cell_type": "code",
   "execution_count": 6,
   "metadata": {},
   "outputs": [
    {
     "name": "stdout",
     "output_type": "stream",
     "text": [
      "13\n",
      "7\n",
      "30\n",
      "3.3333333333333335\n",
      "3\n",
      "1\n",
      "1000\n",
      "False\n",
      "True\n",
      "False\n",
      "True\n",
      "False\n",
      "True\n",
      "False\n",
      "True\n",
      "False\n",
      "15\n",
      "30\n"
     ]
    }
   ],
   "source": [
    "a = 10\n",
    "b = 3\n",
    "\n",
    "print(a + b)  # Output: 13\n",
    "print(a - b)  # Output: 7\n",
    "print(a * b)  # Output: 30\n",
    "print(a / b)  # Output: 3.3333333333333335\n",
    "print(a // b) # Output: 3 #extra\n",
    "print(a % b)  # Output: 1\n",
    "print(a ** b) # Output: 1000 (10 raised to the power of 3) #extra\n",
    "\n",
    "x = 5\n",
    "y = 10\n",
    "\n",
    "print(x == y)  # Output: False\n",
    "print(x != y)  # Output: True\n",
    "print(x > y)   # Output: False\n",
    "print(x < y)   # Output: True\n",
    "print(x >= y)  # Output: False\n",
    "print(x <= y)  # Output: True\n",
    "\n",
    "a = True\n",
    "b = False\n",
    "\n",
    "print(a and b)  # Output: False\n",
    "print(a or b)   # Output: True\n",
    "print(not a)    # Output: False\n",
    "\n",
    "x = 10\n",
    "x += 5  # Equivalent to x = x + 5\n",
    "print(x)  # Output: 15\n",
    "\n",
    "x *= 2  # Equivalent to x = x * 2\n",
    "print(x)  # Output: 30\n",
    "\n"
   ]
  },
  {
   "cell_type": "code",
   "execution_count": 13,
   "metadata": {},
   "outputs": [
    {
     "name": "stdout",
     "output_type": "stream",
     "text": [
      "Hello, sdcsd\n",
      "You are 34 years old.\n"
     ]
    }
   ],
   "source": [
    "# Taking input from the user\n",
    "name = input(\"Enter your name: \") # output + input \n",
    "print(\"Hello, \" + name)\n",
    "\n",
    "# Taking numeric input\n",
    "age = int(input(\"Enter your age: \")) # integer input\n",
    "print(\"You are \" + str(age) + \" years old.\") # string can't concat with other datatypes\n",
    "\n"
   ]
  },
  {
   "cell_type": "code",
   "execution_count": 17,
   "metadata": {},
   "outputs": [
    {
     "name": "stdout",
     "output_type": "stream",
     "text": [
      "Hello, Alice!\n",
      "\n",
      "    This function greets the person whose name is passed as an argument.\n",
      "    \n",
      "    Parameters:\n",
      "    name (str): The name of the person to greet.\n",
      "    \n",
      "    Returns:\n",
      "    str: A greeting message.\n",
      "    \n"
     ]
    }
   ],
   "source": [
    "def greet(name):\n",
    "    \"\"\"\n",
    "    This function greets the person whose name is passed as an argument.\n",
    "    \n",
    "    Parameters:\n",
    "    name (str): The name of the person to greet.\n",
    "    \n",
    "    Returns:\n",
    "    str: A greeting message.\n",
    "    \"\"\"\n",
    "    return f\"Hello, {name}!\"\n",
    "\n",
    "print(greet(\"Alice\"))  # Output: Hello, Alice!\n",
    "print(greet.__doc__) # doctype for messages print\n"
   ]
  },
  {
   "cell_type": "markdown",
   "metadata": {},
   "source": [
    "2. Control Flow"
   ]
  },
  {
   "cell_type": "code",
   "execution_count": 20,
   "metadata": {},
   "outputs": [
    {
     "name": "stdout",
     "output_type": "stream",
     "text": [
      "You are a minor.\n"
     ]
    }
   ],
   "source": [
    "age = int(input(\"Enter your age: \"))\n",
    "\n",
    "if age < 18:\n",
    "    print(\"You are a minor.\")\n",
    "elif age < 65:\n",
    "    print(\"You are an adult.\")\n",
    "else:\n",
    "    print(\"You are a senior.\")\n"
   ]
  },
  {
   "cell_type": "code",
   "execution_count": 21,
   "metadata": {},
   "outputs": [
    {
     "name": "stdout",
     "output_type": "stream",
     "text": [
      "apple\n",
      "banana\n",
      "cherry\n"
     ]
    }
   ],
   "source": [
    "# Iterating over a list\n",
    "fruits = [\"apple\", \"banana\", \"cherry\"]\n",
    "\n",
    "for fruit in fruits:\n",
    "    print(fruit)\n"
   ]
  },
  {
   "cell_type": "code",
   "execution_count": 22,
   "metadata": {},
   "outputs": [
    {
     "name": "stdout",
     "output_type": "stream",
     "text": [
      "Count: 0\n",
      "Count: 1\n",
      "Count: 2\n"
     ]
    }
   ],
   "source": [
    "count = 0\n",
    "\n",
    "while count < 3:\n",
    "    print(\"Count:\", count)\n",
    "    count += 1\n"
   ]
  },
  {
   "cell_type": "code",
   "execution_count": 25,
   "metadata": {},
   "outputs": [
    {
     "name": "stdout",
     "output_type": "stream",
     "text": [
      "1 2 3 \n",
      "4 5 6 \n",
      "7 8 9 \n"
     ]
    }
   ],
   "source": [
    "# Example of a nested for loop\n",
    "matrix = [\n",
    "    [1, 2, 3],\n",
    "    [4, 5, 6],\n",
    "    [7, 8, 9]\n",
    "]\n",
    "\n",
    "for row in matrix:\n",
    "    for element in row:\n",
    "        print(element, end=\" \")\n",
    "    print()  # Newline after each row\n"
   ]
  },
  {
   "cell_type": "code",
   "execution_count": 26,
   "metadata": {},
   "outputs": [
    {
     "name": "stdout",
     "output_type": "stream",
     "text": [
      "1\n",
      "2\n"
     ]
    }
   ],
   "source": [
    "for number in range(1, 6):\n",
    "    if number == 3:\n",
    "        break\n",
    "    print(number)\n"
   ]
  },
  {
   "cell_type": "code",
   "execution_count": 27,
   "metadata": {},
   "outputs": [
    {
     "name": "stdout",
     "output_type": "stream",
     "text": [
      "1\n",
      "2\n",
      "4\n",
      "5\n"
     ]
    }
   ],
   "source": [
    "for number in range(1, 6):\n",
    "    if number == 3:\n",
    "        continue\n",
    "    print(number)\n"
   ]
  },
  {
   "cell_type": "code",
   "execution_count": 28,
   "metadata": {},
   "outputs": [
    {
     "name": "stdout",
     "output_type": "stream",
     "text": [
      "1\n",
      "2\n",
      "3\n",
      "4\n",
      "5\n"
     ]
    }
   ],
   "source": [
    "for number in range(1, 6):\n",
    "    if number == 3:\n",
    "        pass  # Do nothing\n",
    "    print(number)\n"
   ]
  },
  {
   "cell_type": "markdown",
   "metadata": {},
   "source": [
    "3. Data Structures in Python"
   ]
  },
  {
   "cell_type": "markdown",
   "metadata": {},
   "source": [
    "3.1 Lists\n"
   ]
  },
  {
   "cell_type": "code",
   "execution_count": null,
   "metadata": {},
   "outputs": [],
   "source": [
    "# Creating an empty list ( Array )\n",
    "my_list = []\n",
    "\n",
    "# Creating a list with elements\n",
    "fruits = [\"apple\", \"banana\", \"cherry\"]\n",
    "print(fruits)  # Output: ['apple', 'banana', 'cherry']\n",
    "\n",
    "# Accessing by index\n",
    "print(fruits[0])  # Output: 'apple'\n",
    "print(fruits[-1]) # Output: 'cherry' (negative index starts from the end)\n",
    "\n",
    "# Slicing elements\n",
    "print(fruits[0:2])  # Output: ['apple', 'banana']\n",
    "print(fruits[1:])   # Output: ['banana', 'cherry']\n",
    "\n",
    "# Modifying an element\n",
    "fruits[1] = \"blueberry\"\n",
    "print(fruits)  # Output: ['apple', 'blueberry', 'cherry']\n",
    "\n",
    "# Adds a single element to the end\n",
    "fruits.append(\"orange\")\n",
    "print(fruits)  # Output: ['apple', 'blueberry', 'cherry', 'orange']\n",
    "\n",
    "# Inserts an element at a specific position\n",
    "fruits.insert(1, \"kiwi\")\n",
    "print(fruits)  # Output: ['apple', 'kiwi', 'blueberry', 'cherry', 'orange']\n",
    "\n",
    "# Extends the list by adding all elements from another list\n",
    "more_fruits = [\"mango\", \"grape\"]\n",
    "fruits.extend(more_fruits)\n",
    "print(fruits)  # Output: ['apple', 'kiwi', 'blueberry', 'cherry', 'orange', 'mango', 'grape']\n",
    "\n",
    "# Removes the first occurrence of a value\n",
    "fruits.remove(\"kiwi\")\n",
    "# Removes the first occurrence of a value\n",
    "# fruits.remove(\"kiwi\")\n",
    "\n",
    "# demo=[]\n",
    "# j=0\n",
    "# for i in range(0,len(fruits)-1):\n",
    "\n",
    "#     if(fruits[i]==\"kiwi\"):\n",
    "#         j=1\n",
    "#         fruits[i]=fruits[i+1]\n",
    "\n",
    "#     if(j==1):\n",
    "#         fruits[i]=fruits[i+1]\n",
    "\n",
    "#     demo.append(fruits[i])\n",
    "\n",
    "# fruits=demo\n",
    "\n",
    "print(fruits)  # Output: ['apple', 'blueberry', 'cherry', 'orange', 'mango', 'grape']\n",
    "\n",
    "# Removes and returns the element at a specific index (default is the last item)\n",
    "popped_fruit = fruits.pop(2) # pop func will return the popped value\n",
    "print(popped_fruit)  # Output: 'cherry'\n",
    "print(fruits)        # Output: ['apple', 'blueberry', 'orange', 'mango', 'grape']\n",
    "\n",
    "# Removes all elements from the list\n",
    "fruits.clear() # delete value not the list\n",
    "print(fruits)  # Output: []\n",
    "\n",
    "# Checking if an item is in the list\n",
    "fruits = [\"apple\", \"banana\", \"cherry\"]\n",
    "print(\"apple\" in fruits)   # Output: True\n",
    "print(\"grape\" not in fruits)  # Output: True\n",
    "\n",
    "# Creating a list of squares using list comprehension\n",
    "squares = [x**2 for x in range(5)]\n",
    "\n",
    "# squares = []\n",
    "# for x in range(5):\n",
    "#     squares.append(x**3)\n",
    "\n",
    "print(squares)  # Output: [0, 1, 4, 9, 16]\n",
    "\n",
    "numbers = [3, 1, 4, 1, 5]\n",
    "numbers.sort()\n",
    "print(numbers)  # Output: [1, 1, 3, 4, 5]\n",
    "\n",
    "numbers = [3, 1, 4, 1, 5]\n",
    "sorted_numbers = sorted(numbers, reverse=True)\n",
    "print(sorted_numbers)  # Output: [5, 4, 3, 1, 1]\n",
    "\n",
    "# Reversing the list\n",
    "numbers = [1, 2, 3]\n",
    "numbers.reverse()\n",
    "print(numbers)  # Output: [3, 2, 1]\n",
    "\n",
    "# Finds the index of the first occurrence of a value\n",
    "index_of_banana = fruits.index(\"banana\")\n",
    "\n",
    "# for i in range(0,len(fruits)):\n",
    "#     if(fruits[i]==\"banana\"):\n",
    "#         print(i)\n",
    "\n",
    "print(index_of_banana)  # Output: 1\n",
    "\n",
    "# Counts the number of occurrences of a value\n",
    "count_of_cherry = fruits.count(\"cherry\")\n",
    "\n",
    "# c=0\n",
    "# for i in range(0,len(fruits)):\n",
    "#     if(fruits[i]==\"cherry\"):\n",
    "#         c=c+1\n",
    "\n",
    "print(count_of_cherry)  # Output: 1\n",
    "\n",
    "# Creating a shallow copy of the list\n",
    "fruits_copy = fruits.copy()\n",
    "print(fruits_copy)  # Output: ['apple', 'banana', 'cherry']\n",
    "\n",
    "# Another way to copy a list\n",
    "fruits_copy = fruits[:]\n",
    "print(fruits_copy)  # Output: ['apple', 'banana', 'cherry']\n",
    "\n",
    "# Joining list elements into a string\n",
    "words = [\"Hello\", \"world\"]\n",
    "sentence = \" \".join(words)\n",
    "print(sentence)  # Output: 'Hello world'\n",
    "\n",
    "# Finding the number of elements in a list\n",
    "length = len(fruits)\n",
    "print(length)  # Output: 3\n",
    "\n",
    "# Creating a nested list\n",
    "matrix = [[1, 2, 3], [4, 5, 6], [7, 8, 9]]\n",
    "print(matrix[1][2])  # Output: 6 (Accessing row 1, column 2)\n",
    "\n",
    "# Apply a function to each item in a list\n",
    "numbers = [1, 2, 3, 4]\n",
    "squared_numbers = list(map(lambda x: x**2, numbers))\n",
    "print(squared_numbers)  # Output: [1, 4, 9, 16]\n",
    "\n",
    "\n",
    "# Filter elements based on a condition\n",
    "even_numbers = list(filter(lambda x: x % 2 == 0, numbers))\n",
    "print(even_numbers)  # Output: [2, 4]\n",
    "\n",
    "from functools import reduce\n",
    "# Reduce a list to a single cumulative value\n",
    "product = reduce(lambda x, y: x * y, numbers)\n",
    "print(product)  # Output: 24\n",
    "\n",
    "# Using enumerate to get index and value\n",
    "for index, value in enumerate(fruits):\n",
    "    print(index, value)\n",
    "# Output:\n",
    "# 0 apple\n",
    "# 1 banana\n",
    "# 2 cherry\n",
    "\n",
    "# Using list comprehension to flatten a nested list\n",
    "nested_list = [[1, 2], [3, 4], [5, 6]]\n",
    "flattened = [item for sublist in nested_list for item in sublist]\n",
    "print(flattened)  # Output: [1, 2, 3, 4, 5, 6]\n",
    "\n",
    "\n",
    "\n"
   ]
  },
  {
   "cell_type": "code",
   "execution_count": null,
   "metadata": {},
   "outputs": [],
   "source": [
    "coordinates = (4, 5)\n",
    "print(coordinates[1])  # 5\n"
   ]
  },
  {
   "cell_type": "code",
   "execution_count": null,
   "metadata": {},
   "outputs": [],
   "source": [
    "unique_numbers = {1, 2, 3}\n",
    "unique_numbers.add(4)\n",
    "print(unique_numbers)  # {1, 2, 3, 4}\n"
   ]
  },
  {
   "cell_type": "code",
   "execution_count": null,
   "metadata": {},
   "outputs": [],
   "source": [
    "person = {\"name\": \"Alice\", \"age\": 25}\n",
    "person[\"city\"] = \"New York\"\n",
    "print(person)  # {'name': 'Alice', 'age': 25, 'city': 'New York'}\n"
   ]
  },
  {
   "cell_type": "code",
   "execution_count": 37,
   "metadata": {},
   "outputs": [
    {
     "name": "stdout",
     "output_type": "stream",
     "text": [
      "Hello-world-\n"
     ]
    }
   ],
   "source": [
    "# Joining list elements into a string\n",
    "words = [\"Hello\", \"world\"]\n",
    "# sentence = \" \".join(words)\n",
    "string = \"\"\n",
    "for i in words:\n",
    "    string+=i+\"-\"\n",
    "print(string)  # Output: 'Hello world'\n",
    "\n"
   ]
  },
  {
   "cell_type": "code",
   "execution_count": null,
   "metadata": {},
   "outputs": [],
   "source": []
  }
 ],
 "metadata": {
  "kernelspec": {
   "display_name": "Python 3",
   "language": "python",
   "name": "python3"
  },
  "language_info": {
   "codemirror_mode": {
    "name": "ipython",
    "version": 3
   },
   "file_extension": ".py",
   "mimetype": "text/x-python",
   "name": "python",
   "nbconvert_exporter": "python",
   "pygments_lexer": "ipython3",
   "version": "3.12.3"
  }
 },
 "nbformat": 4,
 "nbformat_minor": 2
}
